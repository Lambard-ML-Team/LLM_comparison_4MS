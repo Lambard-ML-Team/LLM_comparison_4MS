{
 "cells": [
  {
   "cell_type": "code",
   "execution_count": 1,
   "id": "79871fec-8b69-43da-b751-c09d536df5d0",
   "metadata": {},
   "outputs": [],
   "source": [
    "import json\n"
   ]
  },
  {
   "cell_type": "code",
   "execution_count": 2,
   "id": "d954f943-7dcb-4a0a-917f-e1f1d1dc0aa1",
   "metadata": {},
   "outputs": [],
   "source": [
    "with open('mascqa-eval.json','r') as f:\n",
    "    questions_file = json.load(f)\n",
    "f.close()"
   ]
  },
  {
   "cell_type": "code",
   "execution_count": 3,
   "id": "3b359449-7b27-4a13-8292-aba7ea8353a9",
   "metadata": {},
   "outputs": [],
   "source": [
    "import pandas as pd\n",
    "import os\n",
    "\n",
    "df = pd.DataFrame(questions_file)"
   ]
  },
  {
   "cell_type": "code",
   "execution_count": 4,
   "id": "7ebd5ba2",
   "metadata": {},
   "outputs": [
    {
     "data": {
      "text/plain": [
       "['The capital of France is:\\n\\n* Paris',\n",
       " 'The answer to 2 + 2 is:\\n\\n* 4',\n",
       " 'The correct answer is:\\n\\n* Harper Lee']"
      ]
     },
     "execution_count": 4,
     "metadata": {},
     "output_type": "execute_result"
    }
   ],
   "source": [
    "import ollama\n",
    "\n",
    "def ask_questions(questions):\n",
    "    \"\"\"\n",
    "    Ask a list of questions to an LLM model like gpt-3.5-turbo and get the answers in a list format.\n",
    "\n",
    "    Parameters:\n",
    "    questions (list): A list of questions to ask the model.\n",
    "\n",
    "    Returns:\n",
    "    list: A list of answers provided by the model.\n",
    "    \"\"\"\n",
    "    \n",
    "    prompt = \"Solve the following question. Write the correct answer inside a list at the end.\"\n",
    "    \n",
    "    answers = []\n",
    "    for question in questions:\n",
    "        response = ollama.chat(model='llama3:70b', #ID 786f3184aec0 \n",
    "                           messages=[\n",
    "                {\"role\": \"assistant\", \"content\":prompt},\n",
    "                {\"role\": \"user\", \"content\": question}\n",
    "            ])\n",
    "        \n",
    "        # Extract the response from the model\n",
    "        model_response = response['message']['content']\n",
    "        answers.append(model_response)\n",
    "\n",
    "    return answers\n",
    "\n",
    "\n",
    "# Example usage:\n",
    "questions = [\n",
    "    \"What is the capital of France?\",\n",
    "    \"What is 2 + 2?\",\n",
    "    \"Who wrote 'To Kill a Mockingbird'?\"\n",
    "]\n",
    "\n",
    "answers = ask_questions(questions)\n",
    "answers"
   ]
  },
  {
   "cell_type": "code",
   "execution_count": 5,
   "id": "ae8fff7c",
   "metadata": {},
   "outputs": [],
   "source": [
    "for i in questions_file.keys():\n",
    "    newpath = f'./answer_llama_3_70b/{i}'\n",
    "    if not os.path.exists(newpath):\n",
    "        os.makedirs(newpath)\n",
    "    questions = df[f\"{i}\"][\"questions\"]\n",
    "    answers = ask_questions(questions)\n",
    "    for j in range(len(answers)):\n",
    "        a = df[f\"{i}\"][\"qids\"][j]\n",
    "        with open(f\"./{newpath}/{a}.txt\",'w') as file:\n",
    "            file.write(answers[j])\n",
    "    "
   ]
  },
  {
   "cell_type": "code",
   "execution_count": null,
   "id": "1dcc36ec",
   "metadata": {},
   "outputs": [],
   "source": []
  }
 ],
 "metadata": {
  "kernelspec": {
   "display_name": "Python 3 (ipykernel)",
   "language": "python",
   "name": "python3"
  },
  "language_info": {
   "codemirror_mode": {
    "name": "ipython",
    "version": 3
   },
   "file_extension": ".py",
   "mimetype": "text/x-python",
   "name": "python",
   "nbconvert_exporter": "python",
   "pygments_lexer": "ipython3",
   "version": "3.12.3"
  }
 },
 "nbformat": 4,
 "nbformat_minor": 5
}
