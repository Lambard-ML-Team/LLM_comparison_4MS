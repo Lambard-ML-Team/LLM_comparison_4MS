{
 "cells": [
  {
   "cell_type": "code",
   "execution_count": 28,
   "id": "79871fec-8b69-43da-b751-c09d536df5d0",
   "metadata": {},
   "outputs": [],
   "source": [
    "import json"
   ]
  },
  {
   "cell_type": "code",
   "execution_count": 29,
   "id": "d954f943-7dcb-4a0a-917f-e1f1d1dc0aa1",
   "metadata": {},
   "outputs": [],
   "source": [
    "with open('mascqa-eval.json','r') as f:\n",
    "    questions_file = json.load(f)\n",
    "f.close()"
   ]
  },
  {
   "cell_type": "code",
   "execution_count": 30,
   "id": "3b359449-7b27-4a13-8292-aba7ea8353a9",
   "metadata": {},
   "outputs": [],
   "source": [
    "import pandas as pd\n",
    "import os\n",
    "\n",
    "df = pd.DataFrame(questions_file)"
   ]
  },
  {
   "cell_type": "code",
   "execution_count": 31,
   "id": "7ebd5ba2",
   "metadata": {},
   "outputs": [],
   "source": [
    "from openai import OpenAI\n",
    "\n",
    "client = OpenAI(\n",
    "  api_key=os.environ['OPENAI_API_KEY'],  # this is also the default, it can be omitted\n",
    ")\n",
    "\n",
    "def ask_questions(questions):\n",
    "    \"\"\"\n",
    "    Ask a list of questions to an LLM model like gpt-3.5-turbo and get the answers in a list format.\n",
    "\n",
    "    Parameters:\n",
    "    questions (list): A list of questions to ask the model.\n",
    "\n",
    "    Returns:\n",
    "    list: A list of answers provided by the model.\n",
    "    \"\"\"\n",
    "    \n",
    "    prompt = \"Solve the following question. Write the correct answer inside a list at the end.\"\n",
    "    \n",
    "    answers = []\n",
    "    total_token = []\n",
    "    for question in questions:\n",
    "        response = client.chat.completions.create(\n",
    "            model=\"gpt-4o\",# gpt-4o-2024-05-13 \n", 
    "            temperature=0,\n",
    "            messages=[\n",
    "                {\"role\": \"assistant\", \"content\":prompt},\n",
    "                {\"role\": \"user\", \"content\": question}\n",
    "            ]\n",
    "        )\n",
    "        \n",
    "        # Extract the response from the model\n",
    "        model_response = response.choices[0].message.content\n",
    "        total_token.append(response.usage)\n",
    "        answers.append(model_response)\n",
    "\n",
    "    return answers, total_token, response.model\n",
    "\n",
    "\n",
    "# Example usage:\n",
    "questions = [\n",
    "    \"What is the capital of France?\",\n",
    "    \"What is 2 + 2?\",\n",
    "    \"Who wrote 'To Kill a Mockingbird'?\"\n",
    "]\n",
    "\n",
    "answers, total_token, model = ask_questions(questions)"
   ]
  },
  {
   "cell_type": "code",
   "execution_count": 32,
   "id": "ae8fff7c",
   "metadata": {},
   "outputs": [],
   "source": [
    "total_token=[]\n",
    "for i in questions_file.keys():\n",
    "    newpath = f'./answer_gpt_4_o/{i}'\n",
    "    if not os.path.exists(newpath):\n",
    "        os.makedirs(newpath)\n",
    "    questions = df[f\"{i}\"][\"questions\"]\n",
    "    answers, Total_Token, model = ask_questions(questions)\n",
    "    total_token.append(Total_Token)\n",
    "    for j in range(len(answers)):\n",
    "        a = df[f\"{i}\"][\"qids\"][j]\n",
    "        with open(f\"./{newpath}/{a}.txt\",'w') as file:\n",
    "            file.write(answers[j])\n",
    "    "
   ]
  },
  {
   "cell_type": "code",
   "execution_count": 33,
   "id": "d2738dff",
   "metadata": {},
   "outputs": [],
   "source": [
    "with open(f\"./answer_gpt_4_o/report{model}.txt\",'w') as file:\n",
    "    file.write(str(total_token))"
   ]
  },
  {
   "cell_type": "code",
   "execution_count": 34,
   "id": "ffc68199",
   "metadata": {},
   "outputs": [],
   "source": [
    "input_token=0\n",
    "output_token=0\n",
    "\n",
    "for i in range(len(total_token)):\n",
    "    for j in range(len(total_token[i])):\n",
    "        input_token += total_token[i][j].prompt_tokens\n",
    "        output_token += total_token[i][j].completion_tokens"
   ]
  },
  {
   "cell_type": "code",
   "execution_count": 35,
   "id": "a87bbb65",
   "metadata": {},
   "outputs": [
    {
     "name": "stdout",
     "output_type": "stream",
     "text": [
      "Input token = 76273 , Output Token = 262636\n"
     ]
    }
   ],
   "source": [
    "print(\"Input token =\",input_token, \", Output Token =\",output_token)"
   ]
  },
  {
   "cell_type": "code",
   "execution_count": null,
   "id": "907895b1",
   "metadata": {},
   "outputs": [],
   "source": []
  }
 ],
 "metadata": {
  "kernelspec": {
   "display_name": "Python 3 (ipykernel)",
   "language": "python",
   "name": "python3"
  },
  "language_info": {
   "codemirror_mode": {
    "name": "ipython",
    "version": 3
   },
   "file_extension": ".py",
   "mimetype": "text/x-python",
   "name": "python",
   "nbconvert_exporter": "python",
   "pygments_lexer": "ipython3",
   "version": "3.11.7"
  }
 },
 "nbformat": 4,
 "nbformat_minor": 5
}
